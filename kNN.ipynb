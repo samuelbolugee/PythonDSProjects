{
  "cells": [
    {
      "cell_type": "markdown",
      "metadata": {
        "id": "7579MAc-UwE-"
      },
      "source": [
        "**Introduction to k-Nearest Neighbors (kNN)**\n",
        "\n",
        "k-Nearest Neighbors (kNN) is a simple and widely used classification and regression algorithm in machine learning. It is a non-parametric and lazy learning algorithm, meaning it does not make any assumptions about the underlying data distribution and doesn't build a specific model during training. Instead, it memorizes the entire training dataset and makes predictions based on the proximity of the data points to the input.\n",
        "\n",
        "The basic idea behind kNN is to classify a new data point by looking at the k closest data points (nearest neighbors) in the training dataset. In classification problems, the majority class among the k-nearest neighbors is assigned to the new data point. For regression tasks, the output is the average (or weighted average) of the k-nearest neighbors' target values.\n",
        "\n",
        "kNN is often used as a baseline algorithm and can work well in certain scenarios, especially when the decision boundary is not highly complex or the dataset is not very large."
      ]
    },
    {
      "cell_type": "markdown",
      "metadata": {
        "id": "_n_njSJ5U5hN"
      },
      "source": [
        "**Theoretical Understanding of kNN**\n",
        "\n",
        "**I. Distance Metrics**\n",
        "\n",
        "The choice of distance metric is crucial in the kNN algorithm. Common distance metrics include:\n",
        "\n",
        "**1. Euclidean Distance:** It is the straight-line distance between two points in Euclidean space.\n",
        "\n",
        "**2. Manhattan Distance (L1 norm):** It is the sum of absolute differences between the coordinates of two points.\n",
        "\n",
        "**3. Minkowski Distance (generalization of Euclidean and Manhattan distances):** It is defined as the Lp norm of the differences between two points' coordinates. See [here](https://www.analyticsvidhya.com/blog/2020/02/4-types-of-distance-metrics-in-machine-learning/) for information on the types of distance metrics in machine learning.\n",
        "\n",
        "**II. Choosing the Value of k**\n",
        "\n",
        "The value of k, the number of nearest neighbors to consider, affects the model's performance. A small value of k (e.g., 1) may lead to a noisy model, while a large value of k may result in a biased model. The optimal k value should be determined through \"the elbow method\", cross-validation or other model evaluation techniques.\n",
        "\n",
        "**III. Handling Ties**\n",
        "\n",
        "In classification problems with an even value of k, there might be ties for the majority class. This can be addressed by using weighted voting or considering different k values until a clear majority is obtained.\n",
        "\n",
        "**IV. Data Scaling**\n",
        "\n",
        "Since kNN relies on distance measures, it is essential to scale the data to prevent features with larger scales from dominating the distance calculations."
      ]
    },
    {
      "cell_type": "markdown",
      "metadata": {
        "id": "rL1HLb11VS7R"
      },
      "source": [
        "**Implementation of kNN in Python**\n",
        "\n",
        "Let's implement the k-Nearest Neighbors algorithm step-by-step in Python using the popular libraries NumPy and Scikit-learn.\n",
        "\n",
        "**Step 1: Import Libraries**"
      ]
    },
    {
      "cell_type": "code",
      "execution_count": 1,
      "metadata": {
        "id": "dgKy4bw0VSMe"
      },
      "outputs": [],
      "source": [
        "import numpy as np\n",
        "from sklearn.datasets import load_iris\n",
        "from sklearn.model_selection import train_test_split\n",
        "from sklearn.preprocessing import StandardScaler\n",
        "from sklearn.neighbors import KNeighborsClassifier\n",
        "from sklearn.metrics import accuracy_score\n"
      ]
    },
    {
      "cell_type": "markdown",
      "metadata": {
        "id": "FmmIvtIMVeF_"
      },
      "source": [
        "**Step 2: Load and Prepare Data**\n",
        "\n",
        "For this tutorial, we will use the Iris dataset from Scikit-learn. We will load the dataset, split it into training and testing sets, and then scale the features using `StandardScaler.`"
      ]
    },
    {
      "cell_type": "code",
      "execution_count": 2,
      "metadata": {
        "id": "H7kEXKgXVjm6"
      },
      "outputs": [],
      "source": [
        "# Load the Iris dataset\n",
        "iris = load_iris()\n",
        "X, y = iris.data, iris.target\n",
        "\n",
        "# Split the data into training and testing sets (80% training, 20% testing)\n",
        "X_train, X_test, y_train, y_test = train_test_split(X, y, test_size=0.2, random_state=42)\n",
        "\n",
        "# Scale the features\n",
        "scaler = StandardScaler()\n",
        "X_train = scaler.fit_transform(X_train)\n",
        "X_test = scaler.transform(X_test)\n"
      ]
    },
    {
      "cell_type": "markdown",
      "metadata": {
        "id": "xD4F3nERVp8S"
      },
      "source": [
        "**Step 3: Implement the kNN Algorithm**\n",
        "\n",
        "Now, we will implement the kNN algorithm from scratch. For simplicity, we'll use the Euclidean distance metric."
      ]
    },
    {
      "cell_type": "code",
      "execution_count": 3,
      "metadata": {
        "id": "MSZ7nFAtVsH7"
      },
      "outputs": [],
      "source": [
        "def euclidean_distance(point1, point2):\n",
        "    return np.sqrt(np.sum((point1 - point2) ** 2))\n",
        "\n",
        "def knn_predict(X_train, y_train, X_test, k):\n",
        "    y_pred = []\n",
        "    for test_point in X_test:\n",
        "        # Calculate distances from the test point to all training points\n",
        "        distances = [euclidean_distance(test_point, train_point) for train_point in X_train]\n",
        "\n",
        "        # Get the indices of the k-nearest neighbors\n",
        "        k_indices = np.argsort(distances)[:k]\n",
        "\n",
        "        # Get the corresponding labels of the k-nearest neighbors\n",
        "        k_nearest_labels = [y_train[i] for i in k_indices]\n",
        "\n",
        "        # Perform majority voting to get the predicted label for the test point\n",
        "        y_pred.append(max(k_nearest_labels, key=k_nearest_labels.count))\n",
        "\n",
        "    return y_pred\n"
      ]
    },
    {
      "cell_type": "markdown",
      "metadata": {
        "id": "xLkIUbR5Vw8M"
      },
      "source": [
        "**Step 4: Make Predictions and Evaluate the Model**\n",
        "\n",
        "Let's use our implemented kNN algorithm to make predictions and evaluate the model's performance."
      ]
    },
    {
      "cell_type": "code",
      "execution_count": 4,
      "metadata": {
        "colab": {
          "base_uri": "https://localhost:8080/"
        },
        "id": "_FsKIhR3VypL",
        "outputId": "ca077ee9-91d6-4701-acb3-0ad487001fb4"
      },
      "outputs": [
        {
          "name": "stdout",
          "output_type": "stream",
          "text": [
            "Accuracy: 1.00\n"
          ]
        }
      ],
      "source": [
        "# Define the value of k\n",
        "k = 5\n",
        "\n",
        "# Make predictions using our kNN algorithm\n",
        "\n",
        "\n",
        "y_pred = knn_predict(X_train, y_train, X_test, k)\n",
        "\n",
        "# Calculate accuracy\n",
        "accuracy = accuracy_score(y_test, y_pred)\n",
        "print(f\"Accuracy: {accuracy:.2f}\")\n"
      ]
    },
    {
      "cell_type": "markdown",
      "metadata": {
        "id": "JUSWxqKOWCye"
      },
      "source": [
        "**The Elbow Method:**\n",
        "\n",
        "The elbow method is a graphical technique used to find the optimal value of k (the number of nearest neighbors) in the k-Nearest Neighbors (kNN) algorithm. It involves plotting the model's performance (e.g., accuracy, error) against different values of k and looking for the \"elbow point\" in the graph. The elbow point is the value of k where the performance stabilizes or starts to decrease. It represents the optimal balance between model complexity and performance.\n",
        "\n",
        "After running the code, you will get a plot showing the accuracy of the kNN model for different values of k. The optimal k value will be at the \"elbow point,\" where the accuracy stabilizes or starts to decrease. This point represents the best trade-off between model complexity and performance.\n",
        "\n",
        "In the plot, look for the value of k where the accuracy is relatively high and further increasing k doesn't significantly improve the accuracy. That value of k is the optimal choice for your kNN model."
      ]
    },
    {
      "cell_type": "code",
      "execution_count": 6,
      "metadata": {
        "colab": {
          "base_uri": "https://localhost:8080/",
          "height": 564
        },
        "id": "CvbSWXT7WLPR",
        "outputId": "85ec39ae-b6b7-4e86-9a2a-cc11d0dffccd"
      },
      "outputs": [
        {
          "data": {
            "image/png": "[encoded data removed]",
            "text/plain": [
              "<Figure size 800x600 with 1 Axes>"
            ]
          },
          "metadata": {},
          "output_type": "display_data"
        }
      ],
      "source": [
        "import matplotlib.pyplot as plt\n",
        "\n",
        "\n",
        "def calculate_accuracy_for_k(X_train, y_train, X_test, y_test, k):\n",
        "    knn_classifier = KNeighborsClassifier(n_neighbors=k)\n",
        "    knn_classifier.fit(X_train, y_train)\n",
        "    y_pred = knn_classifier.predict(X_test)\n",
        "    return accuracy_score(y_test, y_pred)\n",
        "\n",
        "# Define a range of k values to test\n",
        "k_values = list(range(1, 21))\n",
        "\n",
        "# Calculate accuracy for each k value\n",
        "accuracies = []\n",
        "for k in k_values:\n",
        "    accuracy = calculate_accuracy_for_k(X_train, y_train, X_test, y_test, k)\n",
        "    accuracies.append(accuracy)\n",
        "\n",
        "# Plot the results\n",
        "plt.figure(figsize=(8, 6))\n",
        "plt.plot(k_values, accuracies, marker='o')\n",
        "plt.xlabel('k')\n",
        "plt.ylabel('Accuracy')\n",
        "plt.title('kNN: Accuracy vs. k')\n",
        "plt.grid(True)\n",
        "plt.show()\n"
      ]
    },
    {
      "cell_type": "markdown",
      "metadata": {
        "id": "C1fQB3iyWkUy"
      },
      "source": [
        "**Step 5: Using Scikit-learn's kNN Implementation**\n",
        "\n",
        "Scikit-learn provides a powerful kNN implementation, making it much more convenient to use. Let's see how we can achieve the same results using Scikit-learn."
      ]
    },
    {
      "cell_type": "code",
      "execution_count": 7,
      "metadata": {
        "colab": {
          "base_uri": "https://localhost:8080/"
        },
        "id": "z2pq3seaWnkF",
        "outputId": "a7a84aa9-f0c4-4bbb-ed6f-41021ccea2b3"
      },
      "outputs": [
        {
          "name": "stdout",
          "output_type": "stream",
          "text": [
            "Accuracy (Scikit-learn): 1.00\n"
          ]
        }
      ],
      "source": [
        "# Create a kNN classifier using Scikit-learn\n",
        "knn_classifier = KNeighborsClassifier(n_neighbors=k)\n",
        "\n",
        "# Fit the classifier to the training data\n",
        "knn_classifier.fit(X_train, y_train)\n",
        "\n",
        "# Make predictions on the test data\n",
        "y_pred_sklearn = knn_classifier.predict(X_test)\n",
        "\n",
        "# Calculate accuracy using Scikit-learn's accuracy_score function\n",
        "accuracy_sklearn = accuracy_score(y_test, y_pred_sklearn)\n",
        "print(f\"Accuracy (Scikit-learn): {accuracy_sklearn:.2f}\")\n"
      ]
    }
  ],
  "metadata": {
    "colab": {
      "provenance": []
    },
    "kernelspec": {
      "display_name": "Python 3",
      "name": "python3"
    },
    "language_info": {
      "name": "python"
    }
  },
  "nbformat": 4,
  "nbformat_minor": 0
}
