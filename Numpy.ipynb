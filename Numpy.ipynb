{
  "nbformat": 4,
  "nbformat_minor": 0,
  "metadata": {
    "colab": {
      "provenance": [],
      "authorship_tag": "ABX9TyNwnu0kuDwUQwxodfJgUH+r",
      "include_colab_link": true
    },
    "kernelspec": {
      "name": "python3",
      "display_name": "Python 3"
    },
    "language_info": {
      "name": "python"
    }
  },
  "cells": [
    {
      "cell_type": "markdown",
      "metadata": {
        "id": "view-in-github",
        "colab_type": "text"
      },
      "source": [
        "<a href=\"https://colab.research.google.com/github/samuelbolugee/PythonDSProjects/blob/main/Numpy.ipynb\" target=\"_parent\"><img src=\"https://colab.research.google.com/assets/colab-badge.svg\" alt=\"Open In Colab\"/></a>"
      ]
    },
    {
      "cell_type": "markdown",
      "source": [
        "To use NumPy in your Python code, you need to import it at the beginning of your script. Conventionally, NumPy is imported under the alias \"np\":"
      ],
      "metadata": {
        "id": "lFXRxcphfi2Q"
      }
    },
    {
      "cell_type": "code",
      "source": [
        "import numpy as np\n"
      ],
      "metadata": {
        "id": "2Gj0wWYrfkzx"
      },
      "execution_count": null,
      "outputs": []
    },
    {
      "cell_type": "markdown",
      "source": [
        "The fundamental object in NumPy is the ndarray (n-dimensional array). NumPy arrays are similar to Python lists, but they offer more efficient storage and faster computations for numerical operations. Here's how you can create a NumPy array:"
      ],
      "metadata": {
        "id": "mHAuwX7_fnqF"
      }
    },
    {
      "cell_type": "code",
      "source": [
        "# Create a 1-dimensional array from a Python list\n",
        "arr1d = np.array([1, 2, 3, 4, 5])\n",
        "\n",
        "# Create a 2-dimensional array from a nested list\n",
        "arr2d = np.array([[1, 2, 3], [4, 5, 6]])\n",
        "\n",
        "# Create a 3-dimensional array using NumPy functions\n",
        "arr3d = np.zeros((2, 3, 4))  # Creates a 2x3x4 array of zeros\n",
        "arr3d = np.random.rand(2, 3, 4)  # Creates a 2x3x4 array with random values between 0 and 1\n"
      ],
      "metadata": {
        "id": "WisMAYlOfwAk"
      },
      "execution_count": null,
      "outputs": []
    },
    {
      "cell_type": "markdown",
      "source": [
        "NumPy arrays have several useful attributes and methods. Here are a few commonly used ones:"
      ],
      "metadata": {
        "id": "J_e1v898f1Tj"
      }
    },
    {
      "cell_type": "code",
      "source": [
        "# Shape: Returns the dimensions of the array\n",
        "print(arr2d.shape)  # Output: (2, 3) - 2 rows, 3 columns\n",
        "\n",
        "# Size: Returns the total number of elements in the array\n",
        "print(arr2d.size)  # Output: 6\n",
        "\n",
        "# dtype: Returns the data type of the elements in the array\n",
        "print(arr2d.dtype)  # Output: int64\n",
        "\n",
        "# Reshape: Changes the shape of the array\n",
        "reshaped_arr = arr2d.reshape(2, 3)  # Reshapes arr1d into a 2x3 array\n",
        "\n",
        "# Slicing: Extracts a portion of the array\n",
        "slice_arr = arr1d[2:5]  # Returns elements from index 2 to 4 (exclusive)\n"
      ],
      "metadata": {
        "colab": {
          "base_uri": "https://localhost:8080/"
        },
        "id": "ybro1LQZf2EU",
        "outputId": "b970f45b-08cb-4fc7-c2a2-0b93af98b91f"
      },
      "execution_count": null,
      "outputs": [
        {
          "output_type": "stream",
          "name": "stdout",
          "text": [
            "(2, 3)\n",
            "6\n",
            "int64\n"
          ]
        }
      ]
    },
    {
      "cell_type": "markdown",
      "source": [
        "NumPy provides a wide range of mathematical functions and operations that can be performed on arrays. Here are a few examples:"
      ],
      "metadata": {
        "id": "ino0mkTLf-50"
      }
    },
    {
      "cell_type": "code",
      "source": [
        "# Element-wise operations\n",
        "a = np.array([1, 2, 3])\n",
        "b = np.array([4, 5, 6])\n",
        "\n",
        "# Addition\n",
        "result = a + b  # Output: [5, 7, 9]\n",
        "\n",
        "# Multiplication\n",
        "result = a * b  # Output: [4, 10, 18]\n",
        "\n",
        "# Matrix multiplication\n",
        "result = np.dot(a, b)  # Output: 32\n",
        "\n",
        "# Mathematical functions\n",
        "arr = np.array([1, 2, 3])\n",
        "\n",
        "# Square root\n",
        "result = np.sqrt(arr)  # Output: [1.0, 1.41421356, 1.73205081]\n",
        "\n",
        "# Exponential\n",
        "result = np.exp(arr)  # Output: [2.71828183, 7.3890561, 20.08553692]\n"
      ],
      "metadata": {
        "id": "b3RgsogtgCIl"
      },
      "execution_count": null,
      "outputs": []
    },
    {
      "cell_type": "markdown",
      "source": [
        "Broadcasting is a powerful feature in NumPy that allows arrays with different shapes to be used in arithmetic operations. It eliminates the need for explicit looping and improves code readability. Here's an example:"
      ],
      "metadata": {
        "id": "7sU61MH7gO5D"
      }
    },
    {
      "cell_type": "code",
      "source": [
        "# Broadcasting example\n",
        "a = np.array([[1, 2, 3], [4, 5, 6]])\n",
        "b = np.array([10, 20, 30])\n",
        "\n",
        "# Add 'b' to each row of 'a' using broadcasting\n",
        "result = a + b\n",
        "print(result)\n",
        "# Output:\n",
        "# [[11 22 33]\n",
        "#  [14 25 36]]\n"
      ],
      "metadata": {
        "colab": {
          "base_uri": "https://localhost:8080/"
        },
        "id": "cfu6drTdgRG2",
        "outputId": "f629b5f6-f496-490b-fb6e-5bf781e38a21"
      },
      "execution_count": null,
      "outputs": [
        {
          "output_type": "stream",
          "name": "stdout",
          "text": [
            "[[11 22 33]\n",
            " [14 25 36]]\n"
          ]
        }
      ]
    },
    {
      "cell_type": "markdown",
      "source": [
        "NumPy provides various functions to manipulate arrays, such as reshaping, joining, splitting, and more. Here are a few examples:"
      ],
      "metadata": {
        "id": "nQi93cQtgWK4"
      }
    },
    {
      "cell_type": "code",
      "source": [
        "# Reshaping arrays\n",
        "arr = np.array([1, 2, 3, 4, 5, 6])\n",
        "reshaped = arr.reshape(2, 3)\n",
        "print(reshaped)\n",
        "# Output:\n",
        "# [[1 2 3]\n",
        "#  [4 5 6]]\n",
        "\n",
        "# Joining arrays\n",
        "a = np.array([1, 2, 3])\n",
        "b = np.array([4, 5, 6])\n",
        "result = np.concatenate((a, b))\n",
        "print(result)\n",
        "# Output: [1 2 3 4 5 6]\n",
        "\n",
        "# Splitting arrays\n",
        "arr = np.array([1, 2, 3, 4, 5, 6])\n",
        "result = np.split(arr, 3)\n",
        "print(result)\n",
        "# Output: [array([1, 2]), array([3, 4]), array([5, 6])]\n"
      ],
      "metadata": {
        "colab": {
          "base_uri": "https://localhost:8080/"
        },
        "id": "UCK6R8tsgXfH",
        "outputId": "3603f81d-ed36-48b6-fddb-49106d1d1018"
      },
      "execution_count": null,
      "outputs": [
        {
          "output_type": "stream",
          "name": "stdout",
          "text": [
            "[[1 2 3]\n",
            " [4 5 6]]\n",
            "[1 2 3 4 5 6]\n",
            "[array([1, 2]), array([3, 4]), array([5, 6])]\n"
          ]
        }
      ]
    },
    {
      "cell_type": "markdown",
      "source": [
        "NumPy provides universal functions (ufuncs) that operate element-wise on arrays and support various mathematical operations. Some common ufuncs include np.sin(), np.cos(), np.exp(), np.log(), and more. Here's an example:"
      ],
      "metadata": {
        "id": "A1oLNxDhgcT5"
      }
    },
    {
      "cell_type": "code",
      "source": [
        "arr = np.array([0, np.pi/2, np.pi])\n",
        "result = np.sin(arr)\n",
        "print(result)\n",
        "# Output: [0.         1.         1.2246468e-16]\n"
      ],
      "metadata": {
        "colab": {
          "base_uri": "https://localhost:8080/"
        },
        "id": "mZPepU9Ogdol",
        "outputId": "e3a1e4df-644f-40a2-bad6-47b5d0b33edb"
      },
      "execution_count": null,
      "outputs": [
        {
          "output_type": "stream",
          "name": "stdout",
          "text": [
            "[0.0000000e+00 1.0000000e+00 1.2246468e-16]\n"
          ]
        }
      ]
    },
    {
      "cell_type": "markdown",
      "source": [
        "NumPy supports advanced indexing techniques, such as integer array indexing and Boolean array indexing. These techniques enable advanced selection and manipulation of array elements. Here are a few examples:"
      ],
      "metadata": {
        "id": "c8hs9xqAgl2Y"
      }
    },
    {
      "cell_type": "code",
      "source": [
        "arr = np.array([[1, 2], [3, 4], [5, 6]])\n",
        "\n",
        "# Integer array indexing\n",
        "result = arr[[0, 2], [1, 0]]\n",
        "print(result)\n",
        "# Output: [2 5]\n",
        "\n",
        "# Boolean array indexing\n",
        "mask = arr > 2\n",
        "result = arr[mask]\n",
        "print(result)\n",
        "# Output: [3 4 5 6]\n"
      ],
      "metadata": {
        "colab": {
          "base_uri": "https://localhost:8080/"
        },
        "id": "TPyzUcsAgmrR",
        "outputId": "2a90e6bd-f103-4135-d100-157b9a56a355"
      },
      "execution_count": null,
      "outputs": [
        {
          "output_type": "stream",
          "name": "stdout",
          "text": [
            "[2 5]\n",
            "[3 4 5 6]\n"
          ]
        }
      ]
    },
    {
      "cell_type": "markdown",
      "source": [
        "NumPy provides a comprehensive set of linear algebra functions for matrix operations. You can perform operations like matrix multiplication, inverse, determinant, eigenvalues, and more. Here's an example:"
      ],
      "metadata": {
        "id": "QMaVhMgOgqNZ"
      }
    },
    {
      "cell_type": "code",
      "source": [
        "a = np.array([[1, 2], [3, 4]])\n",
        "b = np.array([[5, 6], [7, 8]])\n",
        "\n",
        "# Matrix multiplication\n",
        "result = np.matmul(a, b)\n",
        "print(result)\n",
        "# Output:\n",
        "# [[19 22]\n",
        "#  [43 50]]\n",
        "\n",
        "# Matrix determinant\n",
        "result = np.linalg.det(a)\n",
        "print(result)\n",
        "# Output: -2.0\n",
        "\n",
        "# Matrix inverse\n",
        "result = np.linalg.inv(a)\n",
        "print(result)\n",
        "# Output:\n",
        "# [[-2.   1. ]\n",
        "#  [ 1.5 -0.5]]\n"
      ],
      "metadata": {
        "colab": {
          "base_uri": "https://localhost:8080/"
        },
        "id": "u-lTMscOgu_Q",
        "outputId": "6242b492-b6aa-4738-c17a-d6578c57d4a8"
      },
      "execution_count": null,
      "outputs": [
        {
          "output_type": "stream",
          "name": "stdout",
          "text": [
            "[[19 22]\n",
            " [43 50]]\n",
            "-2.0000000000000004\n",
            "[[-2.   1. ]\n",
            " [ 1.5 -0.5]]\n"
          ]
        }
      ]
    },
    {
      "cell_type": "markdown",
      "source": [
        "Fancy indexing allows you to use arrays of indices to access or manipulate elements of an array. Here's an example:"
      ],
      "metadata": {
        "id": "GDYWCs9sg0F5"
      }
    },
    {
      "cell_type": "code",
      "source": [
        "arr = np.array([10, 20, 30, 40, 50])\n",
        "indices = np.array([1, 3])\n",
        "\n",
        "# Access elements at specified indices\n",
        "result = arr[indices]\n",
        "print(result)\n",
        "# Output: [20 40]\n",
        "\n",
        "# Modify elements at specified indices\n",
        "arr[indices] = 99\n",
        "print(arr)\n",
        "# Output: [10 99 30 99 50]\n"
      ],
      "metadata": {
        "colab": {
          "base_uri": "https://localhost:8080/"
        },
        "id": "eX2ZEQc6g0zX",
        "outputId": "bc7feb7a-51a8-405c-fe44-cc72713afd74"
      },
      "execution_count": null,
      "outputs": [
        {
          "output_type": "stream",
          "name": "stdout",
          "text": [
            "[20 40]\n",
            "[10 99 30 99 50]\n"
          ]
        }
      ]
    },
    {
      "cell_type": "markdown",
      "source": [
        "Vectorization is a technique that performs operations on entire arrays rather than individual elements. It improves performance and readability of the code. Here's an example:"
      ],
      "metadata": {
        "id": "SZ0WOAGJg4Sl"
      }
    },
    {
      "cell_type": "code",
      "source": [
        "# Calculate the Euclidean distance between two arrays\n",
        "a = np.array([1, 2, 3])\n",
        "b = np.array([4, 5, 6])\n",
        "\n",
        "# Vectorized calculation\n",
        "distance = np.sqrt(np.sum((a - b) ** 2))\n",
        "print(distance)\n",
        "# Output: 5.196152422706632\n"
      ],
      "metadata": {
        "colab": {
          "base_uri": "https://localhost:8080/"
        },
        "id": "x5kIKSCFg6T4",
        "outputId": "f092b959-1b0f-46e5-8d9f-c76df66ff29e"
      },
      "execution_count": null,
      "outputs": [
        {
          "output_type": "stream",
          "name": "stdout",
          "text": [
            "5.196152422706632\n"
          ]
        }
      ]
    },
    {
      "cell_type": "markdown",
      "source": [
        "Structured arrays allow you to define custom data types and organize data with different types into a single array. Here's an example:"
      ],
      "metadata": {
        "id": "TcVjs8ZNg62f"
      }
    },
    {
      "cell_type": "code",
      "source": [
        "# Define a structured data type\n",
        "dt = np.dtype([('name', 'S10'), ('age', int), ('height', float)])\n",
        "\n",
        "# Create a structured array\n",
        "arr = np.array([('John', 30, 175.2), ('Alice', 25, 162.5)], dtype=dt)\n",
        "\n",
        "# Accessing elements by field name\n",
        "print(arr['name'])\n",
        "# Output: [b'John' b'Alice']\n",
        "\n",
        "# Accessing elements by row and field name\n",
        "print(arr[1]['age'])\n",
        "# Output: 25\n"
      ],
      "metadata": {
        "colab": {
          "base_uri": "https://localhost:8080/"
        },
        "id": "832ORjGpg9rf",
        "outputId": "e89694de-3bbe-4220-8c7a-2f155497ff99"
      },
      "execution_count": null,
      "outputs": [
        {
          "output_type": "stream",
          "name": "stdout",
          "text": [
            "[b'John' b'Alice']\n",
            "25\n"
          ]
        }
      ]
    },
    {
      "cell_type": "markdown",
      "source": [
        "You can use Boolean masks to apply conditions and perform operations on arrays with different shapes."
      ],
      "metadata": {
        "id": "bxomvxOKhAwk"
      }
    },
    {
      "cell_type": "code",
      "source": [
        "# Broadcasting with masks\n",
        "arr = np.array([1, 2, 3, 4, 5])\n",
        "mask = np.array([True, False, True, False, False])\n",
        "\n",
        "# Multiply elements that satisfy the condition by 2\n",
        "result = arr[mask] * 2\n",
        "print(result)\n",
        "# Output: [2 6]\n"
      ],
      "metadata": {
        "colab": {
          "base_uri": "https://localhost:8080/"
        },
        "id": "VydJpvM9hHY8",
        "outputId": "3e45fbcd-a0bb-44d3-c559-b29e5af90e1f"
      },
      "execution_count": null,
      "outputs": [
        {
          "output_type": "stream",
          "name": "stdout",
          "text": [
            "[2 6]\n"
          ]
        }
      ]
    },
    {
      "cell_type": "markdown",
      "source": [
        "NumPy integrates well with the pandas library, which is widely used for data manipulation and analysis. You can convert NumPy arrays to pandas DataFrames for more advanced data processing."
      ],
      "metadata": {
        "id": "8nifge1NhNAK"
      }
    },
    {
      "cell_type": "code",
      "source": [
        "import pandas as pd\n",
        "\n",
        "# Convert NumPy array to DataFrame\n",
        "data = np.array([[1, 2, 3], [4, 5, 6]])\n",
        "df = pd.DataFrame(data, columns=['A', 'B', 'C'])\n",
        "\n",
        "# Perform operations on DataFrame\n",
        "df['D'] = df['A'] + df['B']\n",
        "print(df)\n",
        "# Output:\n",
        "#    A  B  C  D\n",
        "# 0  1  2  3  3\n",
        "# 1  4  5  6  9\n"
      ],
      "metadata": {
        "colab": {
          "base_uri": "https://localhost:8080/"
        },
        "id": "0VLKMz28hOkY",
        "outputId": "62692008-3c4a-42bc-8430-8636ea2b6eff"
      },
      "execution_count": null,
      "outputs": [
        {
          "output_type": "stream",
          "name": "stdout",
          "text": [
            "   A  B  C  D\n",
            "0  1  2  3  3\n",
            "1  4  5  6  9\n"
          ]
        }
      ]
    }
  ]
}