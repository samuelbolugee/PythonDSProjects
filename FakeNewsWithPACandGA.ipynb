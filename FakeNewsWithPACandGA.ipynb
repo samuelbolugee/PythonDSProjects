{
  "cells": [
    {
      "cell_type": "markdown",
      "metadata": {
        "id": "view-in-github",
        "colab_type": "text"
      },
      "source": [
        "<a href=\"https://colab.research.google.com/github/samuelbolugee/PythonDSProjects/blob/main/FakeNewsWithPACandGA.ipynb\" target=\"_parent\"><img src=\"https://colab.research.google.com/assets/colab-badge.svg\" alt=\"Open In Colab\"/></a>"
      ]
    },
    {
      "cell_type": "markdown",
      "metadata": {
        "id": "AeYAnvBMTT2Y"
      },
      "source": [
        "#Fake News Detection with ML and Evolutionary Algorithms in Python - Data Science Project 1\n",
        "\n",
        "Seeing is believing, right?\n",
        "\n",
        "Maybe not.\n",
        "\n",
        "Not all the things people say are true (after all, lying is as old as humanity itself!), and in this day and age where information can go from Kaduna to Karachi, or from Lagos to London or even Lisbon in seconds, there will always exist news articles and information put out by people which is simply put - **not true**.\n",
        "\n",
        "***Fake news, to me, is a travesty that undermines the very foundation of truth and information. It distorts reality, sows confusion, and erodes the trust we place in the sources that should inform and guide us.***\n",
        "\n",
        "How do we then combat the spread of misinformation, and ensure that the truth really prevails?\n",
        "\n",
        "Let's go on a journey to utilize the power of Python to detect fake news from real news."
      ]
    },
    {
      "cell_type": "markdown",
      "metadata": {
        "id": "XVqKSwHZVFYZ"
      },
      "source": [
        "##Firstly,...\n",
        "\n",
        "Let's make the necessary imports:"
      ]
    },
    {
      "cell_type": "code",
      "execution_count": null,
      "metadata": {
        "id": "FUSlf6epVLlv"
      },
      "outputs": [],
      "source": [
        "import numpy as np\n",
        "import pandas as pd\n",
        "import itertools\n",
        "# Next, we import from sklearn:\n",
        "\n",
        "from sklearn.model_selection import train_test_split\n",
        "from sklearn.feature_extraction.text import TfidfVectorizer\n",
        "from sklearn.linear_model import PassiveAggressiveClassifier\n",
        "from sklearn.metrics import accuracy_score, confusion_matrix\n",
        "import matplotlib.pyplot as plt"
      ]
    },
    {
      "cell_type": "markdown",
      "metadata": {
        "id": "N4Lu41-QWfK2"
      },
      "source": [
        "Let's discuss some of the ones that aren't so familiar.\n",
        "\n",
        "1. **Itertools:** Python’s `itertools` is a module that provides various functions that work on iterators to produce complex iterators. In Python, `itertools` is a module that provides a set of useful tools for working with iterators, which are objects that allow you to loop over a sequence of values, one at a time. It's a part of the standard library, so you don't need to install anything extra to use it.\n",
        "\n",
        "The `itertools` module contains various functions that generate iterators for common tasks like creating combinations, permutations, and cycling through sequences. It's especially helpful when you want to perform operations on sequences without having to create full lists in memory, which can be more memory-efficient.\n",
        "\n",
        "2. **TF-IDF Vectorizer:**\n",
        "\n",
        "a. TF-IDF: The full form of \"TF-IDF\" is Term Frequency-Inverse Document Frequency. It's a technique that helps to represent the importance of words in a document relative to a collection of documents. It works like this:\n",
        "\n",
        "i. Term Frequency (TF): This measures how often a word appears in a document. Words that appear more often are likely to be important within that document.\n",
        "\n",
        "ii. Inverse Document Frequency (IDF): This measures how unique or rare a word is across the entire collection of documents. Words that are rare but appear in only a few documents might carry more meaning.\n",
        "\n",
        "iii. TF-IDF: It's the product of TF and IDF. It combines the importance of a word in a specific document with its uniqueness across all documents.\n",
        "\n",
        "b. Vectorizer: In the context of TfidfVectorizer, this is about converting text into numbers that a machine learning algorithm can process. It's like turning words into numerical features.\n",
        "\n",
        "So, `TfidfVectorizer` takes a bunch of text documents and does the following:\n",
        "\n",
        "1. It counts the frequency of words in each document (TF).\n",
        "2. It calculates how unique or common each word is across all documents (IDF).\n",
        "3. It combines these two measures to assign a numerical value to each word in each document.\n",
        "4. The result is a matrix where rows represent documents, columns represent words, and the numbers in the matrix are the TF-IDF values of the words in the documents.\n",
        "\n",
        "This matrix can then be fed into machine learning algorithms for tasks like classification. It helps the algorithm understand the importance of different words in different documents, allowing it to make better predictions or decisions based on the textual content."
      ]
    },
    {
      "cell_type": "markdown",
      "metadata": {
        "id": "wSOdk81wfusb"
      },
      "source": [
        "## The PassiveAggressive Classifier\n",
        "\n",
        "The Passive-Aggressive Classifier is a machine learning algorithm used for binary classification tasks. It's often employed when dealing with online learning scenarios, where data arrives one at a time and the model needs to adapt to new information incrementally.\n",
        "\n",
        "**Here's a simple explanation of how the Passive-Aggressive Classifier works:**\n",
        "\n",
        "When a new data point comes in, the classifier predicts its label based on the current model's understanding. This is the  \"passive behaviour\".\n",
        "\n",
        "If the prediction is incorrect, the classifier becomes \"aggressive\" and adjusts its model to correct the mistake. It updates its parameters to better align with the new data while maintaining a \"margin\" between different classes. This is the \"aggressive update\". However, if the prediction is correct, the classifier remains \"passive\" and doesn't change its model much. This is because the data point doesn't challenge the current understanding significantly."
      ]
    },
    {
      "cell_type": "markdown",
      "metadata": {
        "id": "l8RoCef-gzXx"
      },
      "source": [
        "Now, let's import our dataset and check it out!"
      ]
    },
    {
      "cell_type": "code",
      "execution_count": null,
      "metadata": {
        "colab": {
          "base_uri": "https://localhost:8080/",
          "height": 676
        },
        "id": "wHp__2Clhb3H",
        "outputId": "fb5a1907-8580-441a-d532-4409ce60ad0b"
      },
      "outputs": [
        {
          "output_type": "execute_result",
          "data": {
            "text/plain": [
              "    Unnamed: 0                                              title  \\\n",
              "0         8476                       You Can Smell Hillary’s Fear   \n",
              "1        10294  Watch The Exact Moment Paul Ryan Committed Pol...   \n",
              "2         3608        Kerry to go to Paris in gesture of sympathy   \n",
              "3        10142  Bernie supporters on Twitter erupt in anger ag...   \n",
              "4          875   The Battle of New York: Why This Primary Matters   \n",
              "5         6903                                        Tehran, USA   \n",
              "6         7341  Girl Horrified At What She Watches Boyfriend D...   \n",
              "7           95                  ‘Britain’s Schindler’ Dies at 106   \n",
              "8         4869  Fact check: Trump and Clinton at the 'commande...   \n",
              "9         2909  Iran reportedly makes new push for uranium con...   \n",
              "10        1357  With all three Clintons in Iowa, a glimpse at ...   \n",
              "11         988  Donald Trump’s Shockingly Weak Delegate Game S...   \n",
              "12        7041  Strong Solar Storm, Tech Risks Today | S0 News...   \n",
              "13        7623       10 Ways America Is Preparing for World War 3   \n",
              "14        1571                   Trump takes on Cruz, but lightly   \n",
              "15        4739                         How women lead differently   \n",
              "16        7737  Shocking! Michele Obama & Hillary Caught Glamo...   \n",
              "17        8716  Hillary Clinton in HUGE Trouble After America ...   \n",
              "18        3304  What's in that Iran bill that Obama doesn't like?   \n",
              "19        3078  The 1 chart that explains everything you need ...   \n",
              "\n",
              "                                                 text label  \n",
              "0   Daniel Greenfield, a Shillman Journalism Fello...  FAKE  \n",
              "1   Google Pinterest Digg Linkedin Reddit Stumbleu...  FAKE  \n",
              "2   U.S. Secretary of State John F. Kerry said Mon...  REAL  \n",
              "3   — Kaydee King (@KaydeeKing) November 9, 2016 T...  FAKE  \n",
              "4   It's primary day in New York and front-runners...  REAL  \n",
              "5     \\nI’m not an immigrant, but my grandparents ...  FAKE  \n",
              "6   Share This Baylee Luciani (left), Screenshot o...  FAKE  \n",
              "7   A Czech stockbroker who saved more than 650 Je...  REAL  \n",
              "8   Hillary Clinton and Donald Trump made some ina...  REAL  \n",
              "9   Iranian negotiators reportedly have made a las...  REAL  \n",
              "10  CEDAR RAPIDS, Iowa — “I had one of the most wo...  REAL  \n",
              "11  Donald Trump’s organizational problems have go...  REAL  \n",
              "12  Click Here To Learn More About Alexandra's Per...  FAKE  \n",
              "13  October 31, 2016 at 4:52 am \\nPretty factual e...  FAKE  \n",
              "14  Killing Obama administration rules, dismantlin...  REAL  \n",
              "15  As more women move into high offices, they oft...  REAL  \n",
              "16  Shocking! Michele Obama & Hillary Caught Glamo...  FAKE  \n",
              "17  0 \\nHillary Clinton has barely just lost the p...  FAKE  \n",
              "18  Washington (CNN) For months, the White House a...  REAL  \n",
              "19  While paging through Pew's best data visualiza...  REAL  "
            ],
            "text/html": [
              "\n",
              "  <div id=\"df-23946bcf-44d3-4187-a88a-2e6af8880022\" class=\"colab-df-container\">\n",
              "    <div>\n",
              "<style scoped>\n",
              "    .dataframe tbody tr th:only-of-type {\n",
              "        vertical-align: middle;\n",
              "    }\n",
              "\n",
              "    .dataframe tbody tr th {\n",
              "        vertical-align: top;\n",
              "    }\n",
              "\n",
              "    .dataframe thead th {\n",
              "        text-align: right;\n",
              "    }\n",
              "</style>\n",
              "<table border=\"1\" class=\"dataframe\">\n",
              "  <thead>\n",
              "    <tr style=\"text-align: right;\">\n",
              "      <th></th>\n",
              "      <th>Unnamed: 0</th>\n",
              "      <th>title</th>\n",
              "      <th>text</th>\n",
              "      <th>label</th>\n",
              "    </tr>\n",
              "  </thead>\n",
              "  <tbody>\n",
              "    <tr>\n",
              "      <th>0</th>\n",
              "      <td>8476</td>\n",
              "      <td>You Can Smell Hillary’s Fear</td>\n",
              "      <td>Daniel Greenfield, a Shillman Journalism Fello...</td>\n",
              "      <td>FAKE</td>\n",
              "    </tr>\n",
              "    <tr>\n",
              "      <th>1</th>\n",
              "      <td>10294</td>\n",
              "      <td>Watch The Exact Moment Paul Ryan Committed Pol...</td>\n",
              "      <td>Google Pinterest Digg Linkedin Reddit Stumbleu...</td>\n",
              "      <td>FAKE</td>\n",
              "    </tr>\n",
              "    <tr>\n",
              "      <th>2</th>\n",
              "      <td>3608</td>\n",
              "      <td>Kerry to go to Paris in gesture of sympathy</td>\n",
              "      <td>U.S. Secretary of State John F. Kerry said Mon...</td>\n",
              "      <td>REAL</td>\n",
              "    </tr>\n",
              "    <tr>\n",
              "      <th>3</th>\n",
              "      <td>10142</td>\n",
              "      <td>Bernie supporters on Twitter erupt in anger ag...</td>\n",
              "      <td>— Kaydee King (@KaydeeKing) November 9, 2016 T...</td>\n",
              "      <td>FAKE</td>\n",
              "    </tr>\n",
              "    <tr>\n",
              "      <th>4</th>\n",
              "      <td>875</td>\n",
              "      <td>The Battle of New York: Why This Primary Matters</td>\n",
              "      <td>It's primary day in New York and front-runners...</td>\n",
              "      <td>REAL</td>\n",
              "    </tr>\n",
              "    <tr>\n",
              "      <th>5</th>\n",
              "      <td>6903</td>\n",
              "      <td>Tehran, USA</td>\n",
              "      <td>\\nI’m not an immigrant, but my grandparents ...</td>\n",
              "      <td>FAKE</td>\n",
              "    </tr>\n",
              "    <tr>\n",
              "      <th>6</th>\n",
              "      <td>7341</td>\n",
              "      <td>Girl Horrified At What She Watches Boyfriend D...</td>\n",
              "      <td>Share This Baylee Luciani (left), Screenshot o...</td>\n",
              "      <td>FAKE</td>\n",
              "    </tr>\n",
              "    <tr>\n",
              "      <th>7</th>\n",
              "      <td>95</td>\n",
              "      <td>‘Britain’s Schindler’ Dies at 106</td>\n",
              "      <td>A Czech stockbroker who saved more than 650 Je...</td>\n",
              "      <td>REAL</td>\n",
              "    </tr>\n",
              "    <tr>\n",
              "      <th>8</th>\n",
              "      <td>4869</td>\n",
              "      <td>Fact check: Trump and Clinton at the 'commande...</td>\n",
              "      <td>Hillary Clinton and Donald Trump made some ina...</td>\n",
              "      <td>REAL</td>\n",
              "    </tr>\n",
              "    <tr>\n",
              "      <th>9</th>\n",
              "      <td>2909</td>\n",
              "      <td>Iran reportedly makes new push for uranium con...</td>\n",
              "      <td>Iranian negotiators reportedly have made a las...</td>\n",
              "      <td>REAL</td>\n",
              "    </tr>\n",
              "    <tr>\n",
              "      <th>10</th>\n",
              "      <td>1357</td>\n",
              "      <td>With all three Clintons in Iowa, a glimpse at ...</td>\n",
              "      <td>CEDAR RAPIDS, Iowa — “I had one of the most wo...</td>\n",
              "      <td>REAL</td>\n",
              "    </tr>\n",
              "    <tr>\n",
              "      <th>11</th>\n",
              "      <td>988</td>\n",
              "      <td>Donald Trump’s Shockingly Weak Delegate Game S...</td>\n",
              "      <td>Donald Trump’s organizational problems have go...</td>\n",
              "      <td>REAL</td>\n",
              "    </tr>\n",
              "    <tr>\n",
              "      <th>12</th>\n",
              "      <td>7041</td>\n",
              "      <td>Strong Solar Storm, Tech Risks Today | S0 News...</td>\n",
              "      <td>Click Here To Learn More About Alexandra's Per...</td>\n",
              "      <td>FAKE</td>\n",
              "    </tr>\n",
              "    <tr>\n",
              "      <th>13</th>\n",
              "      <td>7623</td>\n",
              "      <td>10 Ways America Is Preparing for World War 3</td>\n",
              "      <td>October 31, 2016 at 4:52 am \\nPretty factual e...</td>\n",
              "      <td>FAKE</td>\n",
              "    </tr>\n",
              "    <tr>\n",
              "      <th>14</th>\n",
              "      <td>1571</td>\n",
              "      <td>Trump takes on Cruz, but lightly</td>\n",
              "      <td>Killing Obama administration rules, dismantlin...</td>\n",
              "      <td>REAL</td>\n",
              "    </tr>\n",
              "    <tr>\n",
              "      <th>15</th>\n",
              "      <td>4739</td>\n",
              "      <td>How women lead differently</td>\n",
              "      <td>As more women move into high offices, they oft...</td>\n",
              "      <td>REAL</td>\n",
              "    </tr>\n",
              "    <tr>\n",
              "      <th>16</th>\n",
              "      <td>7737</td>\n",
              "      <td>Shocking! Michele Obama &amp; Hillary Caught Glamo...</td>\n",
              "      <td>Shocking! Michele Obama &amp; Hillary Caught Glamo...</td>\n",
              "      <td>FAKE</td>\n",
              "    </tr>\n",
              "    <tr>\n",
              "      <th>17</th>\n",
              "      <td>8716</td>\n",
              "      <td>Hillary Clinton in HUGE Trouble After America ...</td>\n",
              "      <td>0 \\nHillary Clinton has barely just lost the p...</td>\n",
              "      <td>FAKE</td>\n",
              "    </tr>\n",
              "    <tr>\n",
              "      <th>18</th>\n",
              "      <td>3304</td>\n",
              "      <td>What's in that Iran bill that Obama doesn't like?</td>\n",
              "      <td>Washington (CNN) For months, the White House a...</td>\n",
              "      <td>REAL</td>\n",
              "    </tr>\n",
              "    <tr>\n",
              "      <th>19</th>\n",
              "      <td>3078</td>\n",
              "      <td>The 1 chart that explains everything you need ...</td>\n",
              "      <td>While paging through Pew's best data visualiza...</td>\n",
              "      <td>REAL</td>\n",
              "    </tr>\n",
              "  </tbody>\n",
              "</table>\n",
              "</div>\n",
              "    <div class=\"colab-df-buttons\">\n",
              "\n",
              "  <div class=\"colab-df-container\">\n",
              "    <button class=\"colab-df-convert\" onclick=\"convertToInteractive('df-23946bcf-44d3-4187-a88a-2e6af8880022')\"\n",
              "            title=\"Convert this dataframe to an interactive table.\"\n",
              "            style=\"display:none;\">\n",
              "\n",
              "  <svg xmlns=\"http://www.w3.org/2000/svg\" height=\"24px\" viewBox=\"0 -960 960 960\">\n",
              "    <path d=\"M120-120v-720h720v720H120Zm60-500h600v-160H180v160Zm220 220h160v-160H400v160Zm0 220h160v-160H400v160ZM180-400h160v-160H180v160Zm440 0h160v-160H620v160ZM180-180h160v-160H180v160Zm440 0h160v-160H620v160Z\"/>\n",
              "  </svg>\n",
              "    </button>\n",
              "\n",
              "  <style>\n",
              "    .colab-df-container {\n",
              "      display:flex;\n",
              "      gap: 12px;\n",
              "    }\n",
              "\n",
              "    .colab-df-convert {\n",
              "      background-color: #E8F0FE;\n",
              "      border: none;\n",
              "      border-radius: 50%;\n",
              "      cursor: pointer;\n",
              "      display: none;\n",
              "      fill: #1967D2;\n",
              "      height: 32px;\n",
              "      padding: 0 0 0 0;\n",
              "      width: 32px;\n",
              "    }\n",
              "\n",
              "    .colab-df-convert:hover {\n",
              "      background-color: #E2EBFA;\n",
              "      box-shadow: 0px 1px 2px rgba(60, 64, 67, 0.3), 0px 1px 3px 1px rgba(60, 64, 67, 0.15);\n",
              "      fill: #174EA6;\n",
              "    }\n",
              "\n",
              "    .colab-df-buttons div {\n",
              "      margin-bottom: 4px;\n",
              "    }\n",
              "\n",
              "    [theme=dark] .colab-df-convert {\n",
              "      background-color: #3B4455;\n",
              "      fill: #D2E3FC;\n",
              "    }\n",
              "\n",
              "    [theme=dark] .colab-df-convert:hover {\n",
              "      background-color: #434B5C;\n",
              "      box-shadow: 0px 1px 3px 1px rgba(0, 0, 0, 0.15);\n",
              "      filter: drop-shadow(0px 1px 2px rgba(0, 0, 0, 0.3));\n",
              "      fill: #FFFFFF;\n",
              "    }\n",
              "  </style>\n",
              "\n",
              "    <script>\n",
              "      const buttonEl =\n",
              "        document.querySelector('#df-23946bcf-44d3-4187-a88a-2e6af8880022 button.colab-df-convert');\n",
              "      buttonEl.style.display =\n",
              "        google.colab.kernel.accessAllowed ? 'block' : 'none';\n",
              "\n",
              "      async function convertToInteractive(key) {\n",
              "        const element = document.querySelector('#df-23946bcf-44d3-4187-a88a-2e6af8880022');\n",
              "        const dataTable =\n",
              "          await google.colab.kernel.invokeFunction('convertToInteractive',\n",
              "                                                    [key], {});\n",
              "        if (!dataTable) return;\n",
              "\n",
              "        const docLinkHtml = 'Like what you see? Visit the ' +\n",
              "          '<a target=\"_blank\" href=https://colab.research.google.com/notebooks/data_table.ipynb>data table notebook</a>'\n",
              "          + ' to learn more about interactive tables.';\n",
              "        element.innerHTML = '';\n",
              "        dataTable['output_type'] = 'display_data';\n",
              "        await google.colab.output.renderOutput(dataTable, element);\n",
              "        const docLink = document.createElement('div');\n",
              "        docLink.innerHTML = docLinkHtml;\n",
              "        element.appendChild(docLink);\n",
              "      }\n",
              "    </script>\n",
              "  </div>\n",
              "\n",
              "\n",
              "<div id=\"df-c9ff54da-9f68-4398-a01a-6ca046f93579\">\n",
              "  <button class=\"colab-df-quickchart\" onclick=\"quickchart('df-c9ff54da-9f68-4398-a01a-6ca046f93579')\"\n",
              "            title=\"Suggest charts.\"\n",
              "            style=\"display:none;\">\n",
              "\n",
              "<svg xmlns=\"http://www.w3.org/2000/svg\" height=\"24px\"viewBox=\"0 0 24 24\"\n",
              "     width=\"24px\">\n",
              "    <g>\n",
              "        <path d=\"M19 3H5c-1.1 0-2 .9-2 2v14c0 1.1.9 2 2 2h14c1.1 0 2-.9 2-2V5c0-1.1-.9-2-2-2zM9 17H7v-7h2v7zm4 0h-2V7h2v10zm4 0h-2v-4h2v4z\"/>\n",
              "    </g>\n",
              "</svg>\n",
              "  </button>\n",
              "\n",
              "<style>\n",
              "  .colab-df-quickchart {\n",
              "    background-color: #E8F0FE;\n",
              "    border: none;\n",
              "    border-radius: 50%;\n",
              "    cursor: pointer;\n",
              "    display: none;\n",
              "    fill: #1967D2;\n",
              "    height: 32px;\n",
              "    padding: 0 0 0 0;\n",
              "    width: 32px;\n",
              "  }\n",
              "\n",
              "  .colab-df-quickchart:hover {\n",
              "    background-color: #E2EBFA;\n",
              "    box-shadow: 0px 1px 2px rgba(60, 64, 67, 0.3), 0px 1px 3px 1px rgba(60, 64, 67, 0.15);\n",
              "    fill: #174EA6;\n",
              "  }\n",
              "\n",
              "  [theme=dark] .colab-df-quickchart {\n",
              "    background-color: #3B4455;\n",
              "    fill: #D2E3FC;\n",
              "  }\n",
              "\n",
              "  [theme=dark] .colab-df-quickchart:hover {\n",
              "    background-color: #434B5C;\n",
              "    box-shadow: 0px 1px 3px 1px rgba(0, 0, 0, 0.15);\n",
              "    filter: drop-shadow(0px 1px 2px rgba(0, 0, 0, 0.3));\n",
              "    fill: #FFFFFF;\n",
              "  }\n",
              "</style>\n",
              "\n",
              "  <script>\n",
              "    async function quickchart(key) {\n",
              "      const charts = await google.colab.kernel.invokeFunction(\n",
              "          'suggestCharts', [key], {});\n",
              "    }\n",
              "    (() => {\n",
              "      let quickchartButtonEl =\n",
              "        document.querySelector('#df-c9ff54da-9f68-4398-a01a-6ca046f93579 button');\n",
              "      quickchartButtonEl.style.display =\n",
              "        google.colab.kernel.accessAllowed ? 'block' : 'none';\n",
              "    })();\n",
              "  </script>\n",
              "</div>\n",
              "    </div>\n",
              "  </div>\n"
            ]
          },
          "metadata": {},
          "execution_count": 2
        }
      ],
      "source": [
        "df = pd.read_csv('news.csv')\n",
        "df.head(20)"
      ]
    },
    {
      "cell_type": "code",
      "execution_count": null,
      "metadata": {
        "colab": {
          "base_uri": "https://localhost:8080/"
        },
        "id": "lD-GDqwnhvHV",
        "outputId": "11273b6e-3fe5-4d63-d5a9-fa08d708a309"
      },
      "outputs": [
        {
          "output_type": "execute_result",
          "data": {
            "text/plain": [
              "(6335, 4)"
            ]
          },
          "metadata": {},
          "execution_count": 3
        }
      ],
      "source": [
        "df.shape"
      ]
    },
    {
      "cell_type": "markdown",
      "metadata": {
        "id": "p-rraf_th5p1"
      },
      "source": [
        "Next, let's separate the labels."
      ]
    },
    {
      "cell_type": "code",
      "execution_count": null,
      "metadata": {
        "colab": {
          "base_uri": "https://localhost:8080/"
        },
        "id": "d81s61q1h8Pi",
        "outputId": "005f3cc9-b242-4baa-b92e-40fd4db32336"
      },
      "outputs": [
        {
          "output_type": "execute_result",
          "data": {
            "text/plain": [
              "0    FAKE\n",
              "1    FAKE\n",
              "2    REAL\n",
              "3    FAKE\n",
              "4    REAL\n",
              "Name: label, dtype: object"
            ]
          },
          "metadata": {},
          "execution_count": 4
        }
      ],
      "source": [
        "labels = df.label\n",
        "labels.head()"
      ]
    },
    {
      "cell_type": "markdown",
      "metadata": {
        "id": "7I937eNQjiDX"
      },
      "source": [
        "Now, we split the data into training and testing datasets (75% training, 25% testing).\n",
        "\n",
        "We will be taking the **`text`** column of the dataset."
      ]
    },
    {
      "cell_type": "code",
      "execution_count": null,
      "metadata": {
        "id": "xrWia60Rj85q"
      },
      "outputs": [],
      "source": [
        "x_train, x_test, y_train, y_test = train_test_split(df['text'], labels, test_size = 0.25, random_state = 7)"
      ]
    },
    {
      "cell_type": "markdown",
      "metadata": {
        "id": "gq6IuBQ4koeC"
      },
      "source": [
        "##Initializing the TfidfVectorizer\n",
        "\n",
        "See [here](https://scikit-learn.org/stable/modules/generated/sklearn.feature_extraction.text.TfidfVectorizer.html) for the documentation on this.\n",
        "\n",
        "Two parameters are of interest to us:\n",
        "1. `stop_words`: These are common words such as \"and\", \"him\", and \"the\", which do not give any significant information in the contextual analysis of text, and as such can be dropped in order to avoid the occurrence of them being misconstrued as \"signals for prediction\".\n",
        "\n",
        "For this project, I will be using a stop word list from the English language.\n",
        "\n",
        "2. `max_df`: This basically stands for **maximum document frequency**. This basically means that the vectorizer should discard words that have a document frequency strictly higher than the given threshold."
      ]
    },
    {
      "cell_type": "code",
      "execution_count": null,
      "metadata": {
        "id": "Rus3d7ZjnFym"
      },
      "outputs": [],
      "source": [
        "# We initialize the vectorizer - make sure it's \"english\" and not \"English\"!\n",
        "tf_idf = TfidfVectorizer(stop_words = 'english', max_df = 0.7)\n",
        "\n",
        "#Perform a fit-transform on the training and testing data\n",
        "tf_idf_train = tf_idf.fit_transform(x_train)\n",
        "tf_idf_test = tf_idf.transform(x_test)"
      ]
    },
    {
      "cell_type": "markdown",
      "source": [
        "Please take note - you **fit-transform** the training set, and **transform** the testing set!"
      ],
      "metadata": {
        "id": "dkNo4XK5yqQm"
      }
    },
    {
      "cell_type": "markdown",
      "metadata": {
        "id": "A52Y_oympZ1h"
      },
      "source": [
        "## Evolutionary Algorithms - An Overview of the Genetic Algorithm\n",
        "\n",
        "*Hold up! Wait a minute, something ain't right!*\n",
        "\n",
        "I know, I know, \"evolution\" inside computer science? 😞\n",
        "\n",
        "Don't worry - I will explain, just bear with me.\n",
        "\n",
        "So, there is a class of algorithms that were inspired from nature, specifically the evolutionary process. These are called evolutionary algorithms, or EAs for short.\n",
        "EAs are algorithms that uses mechanisms inspired by nature and solve problems through processes that emulate the behaviors of living organisms.\n",
        "\n",
        "One of such EAs is the ***genetic algorithm***, which is what I will be using today.\n",
        "\n",
        "The genetic algorithm is a method for solving optimization problems that is based on *natural selection*, the process that drives biological evolution. The genetic algorithm repeatedly modifies a population of individual solutions.\n",
        "\n",
        "![ea.jpg](data:image/jpeg;base64,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)"
      ]
    },
    {
      "cell_type": "markdown",
      "metadata": {
        "id": "fRpDUFEVrk22"
      },
      "source": [
        "## So, how does the genetic algorithm work?\n",
        "\n",
        "Here's the breakdown on how a Genetic Algorithm works:\n",
        "\n",
        "1. **Initialization:**\n",
        "First, you start by creating an initial population of potential solutions (individuals) to the problem. Each individual is represented as a set of parameters or genes.\n",
        "\n",
        "2. **Fitness Evaluation:**\n",
        "Next, you evaluate the fitness of each individual in the population. The fitness function quantifies how well an individual solves the problem. It serves as a measure of the individual's quality within the context of the problem.\n",
        "\n",
        "3. **Selection:**\n",
        "Select individuals from the current population for reproduction based on their fitness. Individuals with higher fitness are more likely to be selected, emulating the concept of *\"survival of the fittest.\"*\n",
        "\n",
        "4. **Crossover (Recombination):**\n",
        "Perform crossover, also known as recombination, by combining the genetic information of two selected individuals to create one or more offspring. This mimics the idea of sexual reproduction where genetic material is exchanged between parents.\n",
        "\n",
        "5. **Mutation:**\n",
        "Apply mutation to some of the offspring's genes with a certain probability. Mutation introduces small random changes to the genetic information, allowing the algorithm to explore new regions of the solution space.\n",
        "\n",
        "6. **Replacement:**\n",
        "Replace some individuals in the current population with the newly generated offspring. This ensures that the population evolves over generations and that better solutions have a chance to propagate.\n",
        "\n",
        "7. **Termination Criteria:**\n",
        "Repeat steps 2 to 6 for a certain number of generations or until a termination condition is met (e.g., a satisfactory solution is found, or the algorithm reaches a maximum number of iterations).\n",
        "\n",
        "8. **Solution Extraction:**\n",
        "After the algorithm terminates, the best solution (individual) found in the final population is considered the output of the GA.\n",
        "\n",
        "With that being said, let's put it into practice!\n",
        "\n",
        "3...2...1... **Action!**"
      ]
    },
    {
      "cell_type": "code",
      "execution_count": null,
      "metadata": {
        "colab": {
          "base_uri": "https://localhost:8080/"
        },
        "id": "KmrY1S4kwtUP",
        "outputId": "e5198a4d-168c-498e-b1d4-fa0380f1fbb2"
      },
      "outputs": [
        {
          "output_type": "stream",
          "name": "stdout",
          "text": [
            "Requirement already satisfied: geneticalgorithm in /usr/local/lib/python3.10/dist-packages (1.0.2)\n",
            "Requirement already satisfied: func-timeout in /usr/local/lib/python3.10/dist-packages (from geneticalgorithm) (4.3.5)\n",
            "Requirement already satisfied: numpy in /usr/local/lib/python3.10/dist-packages (from geneticalgorithm) (1.23.5)\n"
          ]
        }
      ],
      "source": [
        "#We must first install our genetic algorithm package: DEAP (Distinguished Evolutionary Algorithms Package)\n",
        "!pip install geneticalgorithm"
      ]
    },
    {
      "cell_type": "code",
      "execution_count": null,
      "metadata": {
        "colab": {
          "base_uri": "https://localhost:8080/",
          "height": 1000
        },
        "id": "r0_NcxBhtuby",
        "outputId": "bbf403a1-8159-4064-988f-24cf06dd3222"
      },
      "outputs": [
        {
          "output_type": "stream",
          "name": "stdout",
          "text": [
            " The best solution found:\n",
            " [0.16956992]\n",
            "\n",
            " Objective function:\n",
            " 0.922979797979798\n"
          ]
        },
        {
          "output_type": "display_data",
          "data": {
            "text/plain": [
              "<Figure size 640x480 with 1 Axes>"
            ],
            "image/png": "[encoded data removed]"
          },
          "metadata": {}
        },
        {
          "output_type": "display_data",
          "data": {
            "text/plain": [
              "<Figure size 1000x600 with 1 Axes>"
            ],
            "image/png": "[encoded data removed]"
          },
          "metadata": {}
        },
        {
          "output_type": "stream",
          "name": "stdout",
          "text": [
            "Best parameters: [0.16956992]\n",
            "Best accuracy: 0.9267676767676768\n"
          ]
        }
      ],
      "source": [
        "from geneticalgorithm import geneticalgorithm as ga\n",
        "\n",
        "# Firstly, we define the fitness function for our genetic algorithm.\n",
        "# Inside this function is where we will instantiate our PassiveAggressive Classifier, since that is what we are trying to optimize.\n",
        "\n",
        "# Lists to store accuracy and precision values for each generation\n",
        "accuracy_history = []\n",
        "\n",
        "def fitness(param):\n",
        "  C = param # This is the parameter of the PAC we want to optimize\n",
        "  C = float(C)\n",
        "  clf = PassiveAggressiveClassifier(C=C, max_iter=100, random_state = 42) # random_state is for reproducibility of results.\n",
        "  clf.fit(tf_idf_train, y_train) # Fit the classifier on the training data\n",
        "  y_pred = clf.predict(tf_idf_test) # Predict on the testing data\n",
        "  # Calculate evaluation metrics\n",
        "  accuracy = accuracy_score(y_test, y_pred)\n",
        "  # Append metrics to history\n",
        "  accuracy_history.append(accuracy)\n",
        "  return accuracy # Returns the accuracy of our predictions\n",
        "\n",
        "# Genetic algorithm setup\n",
        "varbound = np.array([[0.1, 10]])\n",
        "variable_type = 'real' # 'real' for continuous, 'int' for integer\n",
        "\n",
        "\n",
        "alg_param = {'max_num_iteration': None,\\\n",
        "                   'population_size':100,\\\n",
        "                   'mutation_probability':0.1,\\\n",
        "                   'elit_ratio': 0.01,\\\n",
        "                   'crossover_probability': 0.5,\\\n",
        "                   'parents_portion': 0.3,\\\n",
        "                   'crossover_type':'uniform',\\\n",
        "                   'max_iteration_without_improv':None}\n",
        "\n",
        "# Run the genetic algorithm\n",
        "model = ga(function = fitness, dimension = 1, variable_type = variable_type, variable_boundaries=varbound, algorithm_parameters = alg_param)\n",
        "model.run()\n",
        "\n",
        "# Get the best individual and its fitness\n",
        "best_params = model.output_dict['variable'] # output_dict is a dictionary including the best set of variables found and the value of the given function associated to it ({'variable': , 'function': }).\n",
        "best_C = best_params[0]\n",
        "#best_max_iter = int(best_params[1])\n",
        "\n",
        "# Train final classifier\n",
        "final_classifier = PassiveAggressiveClassifier(C=best_C, max_iter=50)\n",
        "final_classifier.fit(tf_idf_test, y_test)\n",
        "\n",
        "# Now, we create a viz that will help us understand the changes in accuracy with respect to each generation\n",
        "# Plot accuracy and precision changes over generations/iterations\n",
        "generation_numbers = np.arange(1, len(accuracy_history) + 1)\n",
        "\n",
        "plt.figure(figsize=(10, 6))\n",
        "plt.plot(generation_numbers, accuracy_history, label='Accuracy')\n",
        "plt.xlabel('Generation/Iteration')\n",
        "plt.ylabel('Metric Value')\n",
        "plt.title('Accuracy Evolution')\n",
        "plt.legend()\n",
        "plt.grid(True)\n",
        "plt.show()\n",
        "\n",
        "print(\"Best parameters:\", best_params)\n",
        "print(\"Best accuracy:\", max(accuracy_history))"
      ]
    },
    {
      "cell_type": "markdown",
      "source": [
        "The model achieved a 92.67% accuracy score! Not bad, at all!"
      ],
      "metadata": {
        "id": "RU9lvrZUGdYM"
      }
    },
    {
      "cell_type": "markdown",
      "source": [
        "Now, to wrap it all up - a pretty confusion matrix."
      ],
      "metadata": {
        "id": "bMUXSuHXIX8-"
      }
    },
    {
      "cell_type": "code",
      "source": [
        "# Helper to plot confusion matrix -- from Scikit-learn website\n",
        "def plot_confusion_matrix(cm, classes,\n",
        "                          normalize=False,\n",
        "                          title='Confusion matrix',\n",
        "                          cmap=plt.cm.Blues):\n",
        "    \"\"\"\n",
        "    This function prints and plots the confusion matrix.\n",
        "    Normalization can be applied by setting `normalize=True`.\n",
        "    \"\"\"\n",
        "    if normalize:\n",
        "        cm = cm.astype('float') / cm.sum(axis=1)[:, np.newaxis]\n",
        "\n",
        "    plt.imshow(cm, interpolation='nearest', cmap=cmap)\n",
        "    plt.title(title)\n",
        "    plt.colorbar()\n",
        "    tick_marks = np.arange(len(classes))\n",
        "    plt.xticks(tick_marks, classes, rotation=45)\n",
        "    plt.yticks(tick_marks, classes)\n",
        "\n",
        "    fmt = '.2f' if normalize else 'd'\n",
        "    thresh = cm.max() / 2.\n",
        "    for i, j in itertools.product(range(cm.shape[0]), range(cm.shape[1])):\n",
        "        plt.text(j, i, format(cm[i, j], fmt),\n",
        "                 horizontalalignment=\"center\",\n",
        "                 color=\"white\" if cm[i, j] > thresh else \"black\")\n",
        "\n",
        "    plt.ylabel('True label')\n",
        "    plt.xlabel('Predicted label')\n",
        "    plt.show()"
      ],
      "metadata": {
        "id": "-jU0989SIdJd"
      },
      "execution_count": 9,
      "outputs": []
    },
    {
      "cell_type": "code",
      "source": [
        "y_pred = final_classifier.predict(tf_idf_test) # To get predictions on testing data"
      ],
      "metadata": {
        "id": "AzoTEuD1Jd9v"
      },
      "execution_count": 11,
      "outputs": []
    },
    {
      "cell_type": "code",
      "source": [
        "cm = confusion_matrix(y_test, y_pred) # Use the non-vectorized data\n",
        "classes = ['REAL', 'FAKE']\n",
        "plt.figure(figsize=(10,10))\n",
        "plot_confusion_matrix(cm, classes, normalize=True)"
      ],
      "metadata": {
        "colab": {
          "base_uri": "https://localhost:8080/",
          "height": 821
        },
        "id": "3KAOOHofIgg-",
        "outputId": "ce101f02-7d27-4b33-9d23-4e1b98ac6fad"
      },
      "execution_count": 12,
      "outputs": [
        {
          "output_type": "display_data",
          "data": {
            "text/plain": [
              "<Figure size 1000x1000 with 2 Axes>"
            ],
            "image/png": "[encoded data removed]"
          },
          "metadata": {}
        }
      ]
    },
    {
      "cell_type": "code",
      "source": [
        "accuracy = accuracy_score(y_test, y_pred)\n",
        "accuracy"
      ],
      "metadata": {
        "colab": {
          "base_uri": "https://localhost:8080/"
        },
        "id": "WCdwxqsxKKuF",
        "outputId": "f8b5a6e4-c37a-41b7-f0dd-3ff9ddda386f"
      },
      "execution_count": 13,
      "outputs": [
        {
          "output_type": "execute_result",
          "data": {
            "text/plain": [
              "1.0"
            ]
          },
          "metadata": {},
          "execution_count": 13
        }
      ]
    },
    {
      "cell_type": "markdown",
      "source": [
        "Testing accuracy is a perfect 100%."
      ],
      "metadata": {
        "id": "oAvSfvSBKRez"
      }
    },
    {
      "cell_type": "markdown",
      "source": [
        "## Conclusion\n",
        "\n",
        "In an age where information moves faster than ever, the unrestrained spread of lies endangers not just our individual knowledge, but also the health of our society as a whole.\n",
        "\n",
        "The advent of false news emphasizes the significance of media literacy and critical thinking abilities. I feel it is critical that we all arm ourselves with the tools to distinguish between legitimate and deceptive sources, to cross-reference materials, and to question what we encounter. We can only expect to resist the ubiquitous effect of false news by actively engaging with information and seeking out diverse views.\n",
        "\n",
        "Furthermore, it is the role of digital platforms, journalists, and legislators to combat fake news, ***and not just people.*** To combat the spread of disinformation, tech companies must continue to improve their algorithms and standards. Journalists must follow ethical guidelines, emphasize fact-checking, and avoid the temptation to choose sensationalism over accuracy. Policymakers should enact policies that enhance media literacy instruction in schools and communities, as well as increase openness in information distribution.\n",
        "\n",
        "In these times where the distinctions between fact and fiction may become blurred, it is our common responsibility to protect the integrity of information. By doing so, we can aim for a society in which truth triumphs over fabrication, informed judgments are the norm, and the power of honest discourse triumphs over the appeal of falsehoods.\n",
        "\n",
        "### Thank you!"
      ],
      "metadata": {
        "id": "VyQDB-nbKhWB"
      }
    }
  ],
  "metadata": {
    "colab": {
      "provenance": [],
      "toc_visible": true,
      "authorship_tag": "ABX9TyPSANQum9Q6OllvPD1Tlnxv",
      "include_colab_link": true
    },
    "kernelspec": {
      "display_name": "Python 3",
      "name": "python3"
    },
    "language_info": {
      "name": "python"
    }
  },
  "nbformat": 4,
  "nbformat_minor": 0
}